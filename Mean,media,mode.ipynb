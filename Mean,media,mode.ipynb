{
 "cells": [
  {
   "cell_type": "code",
   "execution_count": 39,
   "id": "0f080a2d",
   "metadata": {},
   "outputs": [],
   "source": [
    "X = [115.4,231.4,175.9,90.4,155.9,198.4,111.5,145.3,99.8,90.4]"
   ]
  },
  {
   "cell_type": "code",
   "execution_count": 40,
   "id": "c508f372",
   "metadata": {},
   "outputs": [],
   "source": [
    "mean = sum(X)/len(X)"
   ]
  },
  {
   "cell_type": "code",
   "execution_count": 41,
   "id": "05a63936",
   "metadata": {},
   "outputs": [
    {
     "data": {
      "text/plain": [
       "141.44"
      ]
     },
     "execution_count": 41,
     "metadata": {},
     "output_type": "execute_result"
    }
   ],
   "source": [
    "mean"
   ]
  },
  {
   "cell_type": "code",
   "execution_count": 42,
   "id": "8e442278",
   "metadata": {},
   "outputs": [],
   "source": [
    "import statistics"
   ]
  },
  {
   "cell_type": "code",
   "execution_count": 43,
   "id": "777329bb",
   "metadata": {},
   "outputs": [
    {
     "name": "stdout",
     "output_type": "stream",
     "text": [
      "141.44\n"
     ]
    }
   ],
   "source": [
    "print(statistics.mean(X))"
   ]
  },
  {
   "cell_type": "code",
   "execution_count": 44,
   "id": "0e4d1a85",
   "metadata": {},
   "outputs": [],
   "source": [
    "X.sort()"
   ]
  },
  {
   "cell_type": "code",
   "execution_count": 45,
   "id": "18d7d202",
   "metadata": {},
   "outputs": [
    {
     "data": {
      "text/plain": [
       "[90.4, 90.4, 99.8, 111.5, 115.4, 145.3, 155.9, 175.9, 198.4, 231.4]"
      ]
     },
     "execution_count": 45,
     "metadata": {},
     "output_type": "execute_result"
    }
   ],
   "source": [
    "X"
   ]
  },
  {
   "cell_type": "code",
   "execution_count": 46,
   "id": "d0758fe8",
   "metadata": {},
   "outputs": [],
   "source": [
    "n=len(X)"
   ]
  },
  {
   "cell_type": "code",
   "execution_count": 47,
   "id": "dcfd435c",
   "metadata": {},
   "outputs": [
    {
     "name": "stdout",
     "output_type": "stream",
     "text": [
      "Median 130.35000000000002\n"
     ]
    }
   ],
   "source": [
    "if n%2 == 0:\n",
    "    median1 = X[n//2]\n",
    "    median2 = X[n//2 - 1]\n",
    "    median = (median1 + median2)/2\n",
    "else:\n",
    "    median = X[n//2]\n",
    "print(\"Median \" +str(median))"
   ]
  },
  {
   "cell_type": "code",
   "execution_count": 48,
   "id": "324d4cc4",
   "metadata": {},
   "outputs": [
    {
     "name": "stdout",
     "output_type": "stream",
     "text": [
      "130.35000000000002\n"
     ]
    }
   ],
   "source": [
    "print(statistics.median(X))"
   ]
  },
  {
   "cell_type": "code",
   "execution_count": 49,
   "id": "a2baa3fa",
   "metadata": {},
   "outputs": [
    {
     "name": "stdout",
     "output_type": "stream",
     "text": [
      "Mode: 90.4\n"
     ]
    }
   ],
   "source": [
    "X = [115.4,231.4,175.9,90.4,155.9,198.4,111.5,145.3,99.8,90.4]\n",
    "d= {}\n",
    "for i in X:\n",
    "    if i in d:\n",
    "        d[i]=d[i]+1\n",
    "    else:\n",
    "        d[i]=1\n",
    "max=0\n",
    "for i in d:\n",
    "    if(d[i]>max):\n",
    "        max = d[i]\n",
    "        ans = i\n",
    "   \n",
    "print(\"Mode:\",ans)        \n",
    "    \n",
    "    "
   ]
  },
  {
   "cell_type": "code",
   "execution_count": 50,
   "id": "e8f18987",
   "metadata": {},
   "outputs": [
    {
     "name": "stdout",
     "output_type": "stream",
     "text": [
      "90.4\n"
     ]
    }
   ],
   "source": [
    "print(statistics.mode(X))"
   ]
  },
  {
   "cell_type": "code",
   "execution_count": 51,
   "id": "ef8ad63b",
   "metadata": {},
   "outputs": [],
   "source": [
    "X = [115.4,231.4,175.9,90.4,155.9,198.4,111.5,145.3,99.8,90.4]\n",
    "variance = sum((i-mean)**2 for i in X)/(n-1)"
   ]
  },
  {
   "cell_type": "code",
   "execution_count": 52,
   "id": "967eb9d7",
   "metadata": {},
   "outputs": [
    {
     "data": {
      "text/plain": [
       "2363.029333333334"
      ]
     },
     "execution_count": 52,
     "metadata": {},
     "output_type": "execute_result"
    }
   ],
   "source": [
    "variance"
   ]
  },
  {
   "cell_type": "code",
   "execution_count": 53,
   "id": "4b13dbf4",
   "metadata": {},
   "outputs": [
    {
     "name": "stdout",
     "output_type": "stream",
     "text": [
      "2363.0293333333334\n"
     ]
    }
   ],
   "source": [
    "print(statistics.variance(X))"
   ]
  },
  {
   "cell_type": "code",
   "execution_count": 54,
   "id": "e227ed0c",
   "metadata": {},
   "outputs": [],
   "source": [
    "standardev = variance ** 0.5"
   ]
  },
  {
   "cell_type": "code",
   "execution_count": 55,
   "id": "cab3375a",
   "metadata": {},
   "outputs": [
    {
     "data": {
      "text/plain": [
       "48.61100012685744"
      ]
     },
     "execution_count": 55,
     "metadata": {},
     "output_type": "execute_result"
    }
   ],
   "source": [
    "standardev"
   ]
  },
  {
   "cell_type": "code",
   "execution_count": 58,
   "id": "6c508788",
   "metadata": {},
   "outputs": [
    {
     "name": "stdout",
     "output_type": "stream",
     "text": [
      "48.611000126857434\n"
     ]
    }
   ],
   "source": [
    "print(statistics.stdev(X))"
   ]
  },
  {
   "cell_type": "code",
   "execution_count": 59,
   "id": "937608bb",
   "metadata": {},
   "outputs": [
    {
     "name": "stdout",
     "output_type": "stream",
     "text": [
      "0.1773049645390071\n",
      "1.0\n",
      "0.6063829787234043\n",
      "0.0\n",
      "0.4645390070921986\n",
      "0.7659574468085106\n",
      "0.14964539007092195\n",
      "0.38936170212765964\n",
      "0.06666666666666661\n",
      "0.0\n"
     ]
    }
   ],
   "source": [
    "def nor(l):\n",
    "    max = l[0]\n",
    "    min = l[0]\n",
    "    for i in l:\n",
    "        if(i>max):\n",
    "            max = i\n",
    "        elif(i<min):\n",
    "            min = i\n",
    "    for i in l:\n",
    "        result = ((i-min)/(max-min))\n",
    "        print(result)\n",
    "\n",
    "l = [115.4,231.4,175.9,90.4,155.9,198.4,111.5,145.3,99.8,90.4]\n",
    "nor(l)"
   ]
  },
  {
   "cell_type": "code",
   "execution_count": 65,
   "id": "ab484535",
   "metadata": {},
   "outputs": [
    {
     "name": "stdout",
     "output_type": "stream",
     "text": [
      "[-0.5646575881720292, 1.9507141563731092, 0.7472388820433232, -1.1067635675998608, 0.3135540985010579, 1.2351342635283715, -0.649226120962771, 0.08370116322365749, -0.9029317193349963, -1.1067635675998608]\n"
     ]
    }
   ],
   "source": [
    "import numpy as np\n",
    "def std(lst):\n",
    "    mean_val = np.mean(lst)\n",
    "    std_val = np.std(lst)\n",
    "  \n",
    "    standard_value = [(x-mean_val)/std_val for x in lst]\n",
    "    print(standard_value)\n",
    "    \n",
    "data = [115.4,231.4,175.9,90.4,155.9,198.4,111.5,145.3,99.8,90.4]\n",
    "std(data)"
   ]
  },
  {
   "cell_type": "code",
   "execution_count": null,
   "id": "eb1d0dbf",
   "metadata": {},
   "outputs": [],
   "source": []
  }
 ],
 "metadata": {
  "kernelspec": {
   "display_name": "Python 3 (ipykernel)",
   "language": "python",
   "name": "python3"
  },
  "language_info": {
   "codemirror_mode": {
    "name": "ipython",
    "version": 3
   },
   "file_extension": ".py",
   "mimetype": "text/x-python",
   "name": "python",
   "nbconvert_exporter": "python",
   "pygments_lexer": "ipython3",
   "version": "3.9.12"
  }
 },
 "nbformat": 4,
 "nbformat_minor": 5
}

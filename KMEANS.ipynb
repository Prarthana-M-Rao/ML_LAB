{
 "cells": [
  {
   "cell_type": "code",
   "execution_count": 10,
   "id": "0454f52a",
   "metadata": {},
   "outputs": [],
   "source": [
    "import numpy as np\n",
    "from sklearn.cluster import KMeans"
   ]
  },
  {
   "cell_type": "code",
   "execution_count": 11,
   "id": "9a171561",
   "metadata": {},
   "outputs": [],
   "source": [
    "X = np.array([[5.9, 3.2],[4.6, 2.9],[6.2, 2.8],[4.7, 3.2],[5.5, 4.2],[5.0, 3.0],[4.9, \n",
    "3.1],[6.7, 3.1],\n",
    " [5.1, 3.8],\n",
    " [6.0, 3.0],])\n",
    "k=3\n",
    "initial_clusters = np.array([[6.2,3.2],[6.6,3.7],[6.5,3.0]])"
   ]
  },
  {
   "cell_type": "code",
   "execution_count": 14,
   "id": "5fbbc9bc",
   "metadata": {},
   "outputs": [
    {
     "name": "stdout",
     "output_type": "stream",
     "text": [
      "1st iteration,red is: [5.17142857 3.17142857]\n",
      "No.of iterations: 1\n"
     ]
    }
   ],
   "source": [
    "kmeans = KMeans(n_clusters=k,init=initial_clusters,n_init=1,max_iter=1)\n",
    "kmeans.fit(X)\n",
    "first_cluster_center = kmeans.cluster_centers_\n",
    "a = first_cluster_center[0]\n",
    "print(\"1st iteration,red is:\",a)\n",
    "iters = kmeans.n_iter_\n",
    "print(\"No.of iterations:\",iters)"
   ]
  },
  {
   "cell_type": "code",
   "execution_count": 15,
   "id": "1a22a907",
   "metadata": {},
   "outputs": [
    {
     "name": "stdout",
     "output_type": "stream",
     "text": [
      "1st iteration,green is: [5.3 4. ]\n",
      "No.of iterations: 2\n"
     ]
    }
   ],
   "source": [
    "km = KMeans(n_clusters=k,init=initial_clusters,n_init=1,max_iter=2)\n",
    "km.fit(X)\n",
    "first_cluster_center = km.cluster_centers_\n",
    "b = first_cluster_center[1]\n",
    "print(\"1st iteration,green is:\",b)\n",
    "iters = km.n_iter_\n",
    "print(\"No.of iterations:\",iters)"
   ]
  },
  {
   "cell_type": "code",
   "execution_count": 17,
   "id": "68d44bdd",
   "metadata": {},
   "outputs": [
    {
     "name": "stdout",
     "output_type": "stream",
     "text": [
      "1st iteration,blue is: [6.2   3.025]\n",
      "No.of iterations: 3\n"
     ]
    }
   ],
   "source": [
    "kmx = KMeans(n_clusters=k,init=initial_clusters,n_init=1)\n",
    "kmx.fit(X)\n",
    "first_cluster_center = kmx.cluster_centers_\n",
    "b = first_cluster_center[2]\n",
    "print(\"1st iteration,blue is:\",b)\n",
    "iters = kmx.n_iter_\n",
    "print(\"No.of iterations:\",iters)"
   ]
  },
  {
   "cell_type": "code",
   "execution_count": 18,
   "id": "6115d8e9",
   "metadata": {},
   "outputs": [
    {
     "name": "stdout",
     "output_type": "stream",
     "text": [
      "No.of iterations: 3\n"
     ]
    }
   ],
   "source": [
    "boo = KMeans(n_clusters=k,init=initial_clusters,n_init=1)\n",
    "boo.fit(X)\n",
    "first_cluster_center = boo.cluster_centers_\n",
    "\n",
    "iters = boo.n_iter_\n",
    "print(\"No.of iterations:\",iters)"
   ]
  },
  {
   "cell_type": "code",
   "execution_count": null,
   "id": "02a56a7b",
   "metadata": {},
   "outputs": [],
   "source": []
  }
 ],
 "metadata": {
  "kernelspec": {
   "display_name": "Python 3 (ipykernel)",
   "language": "python",
   "name": "python3"
  },
  "language_info": {
   "codemirror_mode": {
    "name": "ipython",
    "version": 3
   },
   "file_extension": ".py",
   "mimetype": "text/x-python",
   "name": "python",
   "nbconvert_exporter": "python",
   "pygments_lexer": "ipython3",
   "version": "3.9.12"
  }
 },
 "nbformat": 4,
 "nbformat_minor": 5
}
